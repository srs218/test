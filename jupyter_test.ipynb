{
 "cells": [
  {
   "cell_type": "code",
   "execution_count": null,
   "metadata": {},
   "outputs": [],
   "source": [
    "print(\"Plants are cool.\")"
   ]
  },
  {
   "cell_type": "markdown",
   "metadata": {},
   "source": [
    "This is an example of markdown (shortcut is esc + m)"
   ]
  },
  {
   "cell_type": "markdown",
   "metadata": {},
   "source": [
    "# This is header 1\n",
    "## This is header 2"
   ]
  },
  {
   "cell_type": "markdown",
   "metadata": {},
   "source": [
    "* bullet1\n",
    "* bullet2\n",
    "* bullet3\n",
    "    * subbullet"
   ]
  },
  {
   "cell_type": "markdown",
   "metadata": {},
   "source": [
    "# Now let's try some code"
   ]
  },
  {
   "cell_type": "code",
   "execution_count": 7,
   "metadata": {},
   "outputs": [
    {
     "name": "stdout",
     "output_type": "stream",
     "text": [
      "Python is fun!\n"
     ]
    }
   ],
   "source": [
    "#Variables\n",
    "message = \"Python is fun!\"\n",
    "print(message)"
   ]
  },
  {
   "cell_type": "code",
   "execution_count": 2,
   "metadata": {},
   "outputs": [
    {
     "name": "stdout",
     "output_type": "stream",
     "text": [
      "Suzy Strickler\n"
     ]
    }
   ],
   "source": [
    "#Strings\n",
    "name = \"suzy strickler\"\n",
    "print(name.title())"
   ]
  },
  {
   "cell_type": "code",
   "execution_count": 11,
   "metadata": {},
   "outputs": [
    {
     "name": "stdout",
     "output_type": "stream",
     "text": [
      "suzy strickler\n",
      "My name is Suzy Strickler!\n"
     ]
    }
   ],
   "source": [
    "#Variables in strings\n",
    "first_name = \"suzy\"\n",
    "last_name = \"strickler\"\n",
    "full_name = f\"{first_name} {last_name}\"\n",
    "print(full_name)\n",
    "print(f\"My name is {full_name.title()}!\")"
   ]
  },
  {
   "cell_type": "code",
   "execution_count": 13,
   "metadata": {},
   "outputs": [
    {
     "name": "stdout",
     "output_type": "stream",
     "text": [
      "['New York', 'Pennsylvania', 'Hawaii']\n"
     ]
    }
   ],
   "source": [
    "#Lists\n",
    "states = ['New York', 'Pennsylvania', 'Hawaii']\n",
    "print(states)"
   ]
  },
  {
   "cell_type": "code",
   "execution_count": 14,
   "metadata": {},
   "outputs": [
    {
     "name": "stdout",
     "output_type": "stream",
     "text": [
      "New York\n"
     ]
    }
   ],
   "source": [
    "#Access elements of a list\n",
    "print(states[0])"
   ]
  },
  {
   "cell_type": "code",
   "execution_count": 15,
   "metadata": {},
   "outputs": [
    {
     "name": "stdout",
     "output_type": "stream",
     "text": [
      "['Texas', 'Pennsylvania', 'Hawaii']\n"
     ]
    }
   ],
   "source": [
    "#changing an element of a list\n",
    "states[0] = 'Texas'\n",
    "print(states)"
   ]
  },
  {
   "cell_type": "code",
   "execution_count": 13,
   "metadata": {},
   "outputs": [
    {
     "name": "stdout",
     "output_type": "stream",
     "text": [
      "['Montana', 'Texas', 'Pennsylvania', 'Hawaii']\n"
     ]
    }
   ],
   "source": [
    "#Adding elements to a list\n",
    "states.insert(0, 'Montana')\n",
    "print(states)"
   ]
  },
  {
   "cell_type": "code",
   "execution_count": 16,
   "metadata": {},
   "outputs": [
    {
     "name": "stdout",
     "output_type": "stream",
     "text": [
      "Pennsylvania\n"
     ]
    }
   ],
   "source": [
    "#Removing a list element\n",
    "popped_states = states.pop(1)\n",
    "print(popped_states)"
   ]
  },
  {
   "cell_type": "code",
   "execution_count": 17,
   "metadata": {},
   "outputs": [
    {
     "name": "stdout",
     "output_type": "stream",
     "text": [
      "Texas\n",
      "Hawaii\n",
      "All states in list printed\n"
     ]
    }
   ],
   "source": [
    "#for loop\n",
    "for state in states:\n",
    "    print(state)\n",
    "print(\"All states in list printed\")"
   ]
  },
  {
   "cell_type": "code",
   "execution_count": 18,
   "metadata": {},
   "outputs": [
    {
     "name": "stdout",
     "output_type": "stream",
     "text": [
      "Texas\n",
      "HAWAII\n"
     ]
    }
   ],
   "source": [
    "#if statements\n",
    "for state in states:\n",
    "    if state == 'Hawaii':\n",
    "        print(state.upper())\n",
    "    elif state == \"New York\":\n",
    "        print(state.lower())\n",
    "    else:\n",
    "        print(state.title())\n",
    "        "
   ]
  },
  {
   "cell_type": "code",
   "execution_count": 30,
   "metadata": {},
   "outputs": [
    {
     "name": "stdout",
     "output_type": "stream",
     "text": [
      "contents of plant color: blue\n",
      "contents of plants: {'color': 'blue', 'height': 10, 'sepal': 3}\n",
      "contents of plants: {'height': 10, 'sepal': 3}\n"
     ]
    }
   ],
   "source": [
    "#Dictionaries\n",
    "plants = {'color': 'blue', 'height': 10}\n",
    "print(f\"contents of plant color: {plants['color']}\")\n",
    "\n",
    "#add a new key-value pair\n",
    "plants['sepal'] = 3\n",
    "print(f\"contents of plants: {plants}\")\n",
    "\n",
    "#remove a key-value pair\n",
    "del plants['color']\n",
    "print(f\"contents of plants: {plants}\")"
   ]
  },
  {
   "cell_type": "code",
   "execution_count": 32,
   "metadata": {},
   "outputs": [
    {
     "name": "stdout",
     "output_type": "stream",
     "text": [
      "How is the weather?sunny\n",
      "sunny\n"
     ]
    }
   ],
   "source": [
    "#Functions\n",
    "def weather():\n",
    "    \"\"\"Find out the weather\"\"\"\n",
    "    answer = input(\"How is the weather?\")\n",
    "    print(answer)\n",
    "    \n",
    "weather()\n",
    "\n",
    "#Can store this function in a separate file and import it in a separate program: import weather"
   ]
  },
  {
   "cell_type": "code",
   "execution_count": 33,
   "metadata": {
    "scrolled": true
   },
   "outputs": [
    {
     "name": "stdout",
     "output_type": "stream",
     "text": [
      ">Atha_AT1G51370.2\n",
      "MVGGKKKTKICDKVSHEEDRISQLPEPLISEILFHLSTKDSVRTSALSTKWRYLWQSVPGLDLDPYASSNTNTIVSFVES\n",
      "FFDSHRDSWIRKLRLDLGYHHDKYDLMSWIDAATTRRIQHLDVHCFHDNKIPLSIYTCTTLVHLRLRWAVLTNPEFVSLP\n",
      "CLKIMHFENVSYPNETTLQKLISGSPVLEELILFSTMYPKGNVLQLRSDTLKRLDINEFIDVVIYAPLLQCLRAKMYSTK\n",
      "NFQIISSGFPAKLDIDFVNTGGRYQKKKVIEDILIDISRVRDLVISSNTWKEFFLYSKSRPLLQFRYISHLNARFYISDL\n",
      "EMLPTLLESCPKLESLILVMSSFNPS\n",
      ">Atha_AT1G50920.1\n",
      "MVQYNFKRITVVPNGKEFVDIILSRTQRQTPTVVHKGYKINRLRQFYMRKVKYTQTNFHAKLSAIIDEFPRLEQIHPFYG\n",
      "DLLHVLYNKDHYKLALGQVNTARNLISKISKDYVKLLKYGDSLYRCKCLKVAALGRMCTVLKRITPSLAYLEQIRQHMAR\n",
      "LPSIDPNTRTVLICGYPNVGKSSFMNKVTRADVDVQPYAFTTKSLFVGHTDYKYLRYQVIDTPGILDRPFEDRNIIEMCS\n",
      "ITALAHLRAAVLFFLDISGSCGYTIAQQAALFHSIKSLFMNKPLVIVCNKTDLMPMENISEEDRKLIEEMKSEAMKTAMG\n",
      "ASEEQVLLKMSTLTDEGVMSVKNAACERLLDQRVEAKMKSKKINDHLNRFHVAIPKPRDSIERLPCIPQVVLEAKAKEAA\n",
      "AMEKRKTEKDLEEENGGAGVYSASLKKNYILQHDEWKEDIMPEILDGHNVADFIDPDILQRLAELEREEGIREAGVEEAD\n",
      "MEMDIEKLSDEQLKQLSEIRKKKAILIKNHRLKKTVAQNRSTVPRKFDKDKKYTTKRMGRELSAMGLDPSSAMDRARSKS\n",
      "RGRKRDRSEDAGNDAMDVDDEQQSNKKQRVRSKSRAMSISRSQSRPPAHEVVPGEGFKDSTQKLSAIKISNKSHKKRDKN\n",
      "ARRGEADRVIPTLRPKHLFSGKRGKGKTDRR\n",
      ">Atha_AT1G36960.1\n",
      "MTRLLPYKGGDFLGPDFLTFIDLCVQVRGIPLPYLSELTVSFIAGTLGPILEMEFNQDTSTYVAFIRVKIRLVFIDRLRF\n",
      "FRREEAAASNTITDQTHMTSSNSSDISPASPISQPPLPASLPSHDSYFDAGIQASRLVNPRAISQHHFSSSYSDFKGKEK\n",
      "AKIKIGECSKRKKDKQVDSGT\n",
      ">Atha_AT1G44020.1\n",
      "MDSESESKLISFISQLVSRNNTDSENISCMIQTISLVSSMDLKSQPKPESKLMSLVTQTISLFNSMDLSSQPEPLRKLIS\n",
      "LIIEKLSHLNSVDSDYEPKPDSEFMSTFYETYKLQPRPEIISIIHQIYSLFISTDTNKVITLVRSLDLDYSEPEPESEFI\n",
      "SVVAVVKQIMSFANSISNSEPEWQFISSMTEMIRLISSIDLEPEWEPPMQLVALFTHTFSLLYYLDRDSELYTLIAQIIF\n",
      "IIDYTDSEPESEWGLDQLMSLSPQWKVQLVQGKFHVTGKIERKNKEKGKCQPENRHRLYLAKGEEASHFICKDCNGEDHI\n",
      "ECEKTPVEVKHLLHPKHSLQLVSQKSSIIQTRKCFCCDEDLKKIFYYCTGCDYDMNIACAEKPPVLFIDRPKWHADTLAL\n",
      "FQRQAFLTCNVCAVADSSSPIYMCPPCDFVVHQRCTGLPRVIRISRHRHRISFTTSFDEGDWSCGVCRRKIDNDYGGFSC\n",
      "IKDGCSYAAHSRCATQKNVWDGIDLEGVPEEIEEEEVEPFVTISKGVIHHFSHQNHHLRLDENRDRIYDENKLCQACIMP\n",
      "IYFGNFFSCMQCDYILQ\n",
      "\n"
     ]
    }
   ],
   "source": [
    "#reading from a file\n",
    "#compared to method in the slide, this method is better - no need to remember to close file after\n",
    "with open(\"/home/bioinfo/Desktop/unix_data/sample1.fasta\") as f:\n",
    "    contents = f.read()\n",
    "    print(contents)"
   ]
  },
  {
   "cell_type": "code",
   "execution_count": 39,
   "metadata": {},
   "outputs": [],
   "source": [
    "#writing output to file\n",
    "with open(\"/home/bioinfo/Desktop/unix_data/test_out.fasta\", 'w') as f:\n",
    "   f.write(contents)"
   ]
  },
  {
   "cell_type": "code",
   "execution_count": null,
   "metadata": {},
   "outputs": [],
   "source": []
  }
 ],
 "metadata": {
  "kernelspec": {
   "display_name": "Python 3",
   "language": "python",
   "name": "python3"
  },
  "language_info": {
   "codemirror_mode": {
    "name": "ipython",
    "version": 3
   },
   "file_extension": ".py",
   "mimetype": "text/x-python",
   "name": "python",
   "nbconvert_exporter": "python",
   "pygments_lexer": "ipython3",
   "version": "3.8.3"
  }
 },
 "nbformat": 4,
 "nbformat_minor": 4
}
